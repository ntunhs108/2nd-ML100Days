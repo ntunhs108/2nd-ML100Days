{
 "cells": [
  {
   "cell_type": "markdown",
   "metadata": {},
   "source": [
    "## [作業重點]\n",
    "了解線性回歸的模型發展歷程，並了解優勢與劣勢，以及其使用情境"
   ]
  },
  {
   "cell_type": "markdown",
   "metadata": {},
   "source": [
    "## 作業"
   ]
  },
  {
   "cell_type": "markdown",
   "metadata": {},
   "source": [
    "請閱讀以下相關文獻，並回答以下問題\n",
    "\n",
    "[Linear Regression 詳細介紹](https://medium.com/@yehjames/%E8%B3%87%E6%96%99%E5%88%86%E6%9E%90-%E6%A9%9F%E5%99%A8%E5%AD%B8%E7%BF%92-%E7%AC%AC3-3%E8%AC%9B-%E7%B7%9A%E6%80%A7%E5%88%86%E9%A1%9E-%E9%82%8F%E8%BC%AF%E6%96%AF%E5%9B%9E%E6%AD%B8-logistic-regression-%E4%BB%8B%E7%B4%B9-a1a5f47017e5)\n",
    "\n",
    "[Logistics Regression 詳細介紹](https://medium.com/@yehjames/%E8%B3%87%E6%96%99%E5%88%86%E6%9E%90-%E6%A9%9F%E5%99%A8%E5%AD%B8%E7%BF%92-%E7%AC%AC3-3%E8%AC%9B-%E7%B7%9A%E6%80%A7%E5%88%86%E9%A1%9E-%E9%82%8F%E8%BC%AF%E6%96%AF%E5%9B%9E%E6%AD%B8-logistic-regression-%E4%BB%8B%E7%B4%B9-a1a5f47017e5)\n"
   ]
  },
  {
   "cell_type": "markdown",
   "metadata": {},
   "source": [
    "1. 線性回歸模型能夠準確預測非線性關係的資料集嗎?\n",
    "2. 回歸模型是否對資料分布有基本假設?\n"
   ]
  },
  {
   "cell_type": "markdown",
   "metadata": {},
   "source": [
    "Ans.\n",
    "* 1. 線性回歸模型對於絕大部分的非線性關係的資料集，是無法準確預測的\n",
    "* 2. 迴歸 (regression) 方法是一個分析變數和變數之間關係的工具，\n",
    "     主要在探討自變數(x)與依變數(y)之間的線性關係，透過迴歸模型的建立，\n",
    "     可以推論和預測研究者感興趣的變數(y)。\n",
    "     簡單線性迴歸: 利用單一自變數(x)去預測一個依變數(y)。\n",
    "     \n",
    "     資料集的誤差項需滿足三大假設:\n",
    "     \n",
    "     (1)常態性(Normality) : 若母體資料呈現常態分配(Normal Distribution)，\n",
    "       則誤差項也會呈現同樣的分配。可採用常態機率圖(normal probability plot) \n",
    "       或Shapiro-Wilk常態性檢定做檢查。\n",
    "\n",
    "     (2)獨立性(Independency) : 誤差項之間應該要相互獨立，否則在估計迴歸參數時\n",
    "        會降低統計的檢定力。我們可以藉由Durbin-Watson test來檢查。\n",
    "\n",
    "     (3)變異數同質性(Constant Variance) : 變異數若不相等會導致自變數無法有效\n",
    "        估計依變數。我們可以藉由殘差圖(Residual Plot)來檢查。"
   ]
  },
  {
   "cell_type": "code",
   "execution_count": null,
   "metadata": {},
   "outputs": [],
   "source": [
    "\"\"\"\n",
    "https://www.jamleecute.com/linear-regression-%E7%B7%9A%E6%80%A7%E8%BF%B4%E6%AD%B8%E6%A8%A1%E5%9E%8B/\n",
    "Linear Regression 線性迴歸模型主要是使用最適線性迴歸線來建立依變數Y和一個或多個自變數X間的關係，並可以此線性迴歸方程式，使用給定自變數X的值來預測依變數Y值（適用於目標變數為連續變數時，若目標變數為二元變數，則適用羅吉斯回歸）。（＊線性迴歸方程式的建立則是使用最小平方法Least Sqaures Method來找尋X和Y之間的關係與趨勢）\n",
    "\n",
    "\n",
    "\"\"\""
   ]
  },
  {
   "cell_type": "code",
   "execution_count": null,
   "metadata": {},
   "outputs": [],
   "source": [
    "\"\"\"\n",
    "二、前提假設\n",
    "1.假設模型:\n",
    "\n",
    "其估計式為:Y=B0+B1X1\n",
    "\n",
    "2.誤差項需滿足三大假設:\n",
    "\n",
    "(1)常態性(Normality) : 若母體資料呈現常態分配(Normal Distribution)，則誤差項也會呈現同樣的分配。可採用常態機率圖(normal probability plot) 或Shapiro-Wilk常態性檢定做檢查。\n",
    "\n",
    "(2)獨立性(Independency) : 誤差項之間應該要相互獨立，否則在估計迴歸參數時會降低統計的檢定力。我們可以藉由Durbin-Watson test來檢查。\n",
    "\n",
    "(3)變異數同質性(Constant Variance) : 變異數若不相等會導致自變數無法有效估計依變數。我們可以藉由殘差圖(Residual Plot)來檢查。\n",
    "\n",
    "\"\"\""
   ]
  },
  {
   "cell_type": "code",
   "execution_count": null,
   "metadata": {},
   "outputs": [],
   "source": [
    "\"\"\"\n",
    "https://www.yongxi-stat.com/simple-regression-analysis/\n",
    "假說檢定(Hypothesis Testing)\n",
    "\n",
    "1. 迴歸模型的顯著性檢定(F test): 探討迴歸模型中的β係數是否全部為0。\n",
    "\n",
    "當係數不為0時，迴歸模型才具有預測力。\n",
    "\n",
    "虛無假說(Null hypothesis)→β1=β2=βn=0\n",
    "\n",
    "對立假說(alternative hypothesis)→至少有一個β不為0\n",
    "\n",
    "統計值(Statistics)→F\n",
    "\n",
    "2. 個別迴歸係數的邊際檢定(t test):探討個別自變數之β係數是否為0。\n",
    "\n",
    "當係數不為0時，自變數才具有解釋力。\n",
    "\n",
    "虛無假說(Null hypothesis)→βn係數為0\n",
    "\n",
    "對立假說(alternative hypothesis)→βn係數不為0\n",
    "\n",
    "統計值(Statistics)→t\n",
    "\n",
    "＊【小常識】\n",
    "\n",
    "在簡單線性迴歸中，F test和t test的統計意義相同。\n",
    "\n",
    "判定係數: 迴歸模型的總變異中可被自變數解釋之百分比， 判定係數越大迴歸模型的配適度越好。一般而言，判定係數大於0.5就算不錯了。\n",
    "\"\"\""
   ]
  }
 ],
 "metadata": {
  "kernelspec": {
   "display_name": "Python 3",
   "language": "python",
   "name": "python3"
  },
  "language_info": {
   "codemirror_mode": {
    "name": "ipython",
    "version": 3
   },
   "file_extension": ".py",
   "mimetype": "text/x-python",
   "name": "python",
   "nbconvert_exporter": "python",
   "pygments_lexer": "ipython3",
   "version": "3.7.3"
  }
 },
 "nbformat": 4,
 "nbformat_minor": 2
}
