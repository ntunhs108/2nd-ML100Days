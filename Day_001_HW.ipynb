{
 "cells": [
  {
   "cell_type": "code",
   "execution_count": 1,
   "metadata": {},
   "outputs": [
    {
     "data": {
      "text/plain": [
       "'\\nHomework1\\n'"
      ]
     },
     "execution_count": 1,
     "metadata": {},
     "output_type": "execute_result"
    }
   ],
   "source": [
    "\"\"\"\n",
    "Homework1\n",
    "\"\"\""
   ]
  },
  {
   "cell_type": "code",
   "execution_count": 2,
   "metadata": {},
   "outputs": [
    {
     "data": {
      "text/plain": [
       "'\\n1.\\n自己有再研究使用藍芽beacon從事室內定位。\\n以前是用卡爾曼濾波器過濾雜訊，來提升室內定位精準度\\n本篇研究是用機器學習取代卡爾曼等傳統濾波器\\n\\n2.\\nhttps://www.kaggle.com/liwste/indoor-positioning\\n\\n3個藍牙beacon安裝在2.74米寬x 4.38米長的房間內。 \\n3個beacon以-12dbm的發射功率發射。 \\n打開藍牙的Sony Xperia E3智能手機用作記錄數據的接收器。 \\n在相同位置以30-60秒的間隔在房間中的若干位置上進行記錄。\\n\\n3.\\n資料型態是結構化資料\\n\\n信標A與使用此藍牙信標的rssi計算的設備之間的距離（以米為單位）。\\n\\n信標B與使用此藍牙信標的rssi計算的設備之間的距離（以米為單位）。\\n\\n信標C與使用此藍牙信標的rssi計算的設備之間的距離（以米為單位）。\\n\\n以厘米為單位的X坐標四捨五入到最接近的厘米，使用精度為+/- 1cm的捲尺測量。\\n\\n以厘米為單位的Y坐標四捨五入到最接近的厘米，使用精度為+/- 1cm的捲尺測量。\\n\\n錄製的日期和時間。\\n\\n4.\\n將資料分別使用卡爾曼濾波器與機器學習過濾訊號，可以分別得到預測的座標\\n\\n將各自的預測座標與實際座標比較，能得到MSE\\n\\n利用MSE可以比較得知，是否與假設的機器學習能增加精準度\\n'"
      ]
     },
     "execution_count": 2,
     "metadata": {},
     "output_type": "execute_result"
    }
   ],
   "source": [
    "\"\"\"\n",
    "1.\n",
    "自己有再研究使用藍芽beacon從事室內定位。\n",
    "以前是用卡爾曼濾波器過濾雜訊，來提升室內定位精準度\n",
    "本篇研究是用機器學習取代卡爾曼等傳統濾波器\n",
    "\n",
    "2.\n",
    "https://www.kaggle.com/liwste/indoor-positioning\n",
    "\n",
    "3個藍牙beacon安裝在2.74米寬x 4.38米長的房間內。 \n",
    "3個beacon以-12dbm的發射功率發射。 \n",
    "打開藍牙的Sony Xperia E3智能手機用作記錄數據的接收器。 \n",
    "在相同位置以30-60秒的間隔在房間中的若干位置上進行記錄。\n",
    "\n",
    "3.\n",
    "資料型態是結構化資料\n",
    "\n",
    "信標A與使用此藍牙信標的rssi計算的設備之間的距離（以米為單位）。\n",
    "\n",
    "信標B與使用此藍牙信標的rssi計算的設備之間的距離（以米為單位）。\n",
    "\n",
    "信標C與使用此藍牙信標的rssi計算的設備之間的距離（以米為單位）。\n",
    "\n",
    "以厘米為單位的X坐標四捨五入到最接近的厘米，使用精度為+/- 1cm的捲尺測量。\n",
    "\n",
    "以厘米為單位的Y坐標四捨五入到最接近的厘米，使用精度為+/- 1cm的捲尺測量。\n",
    "\n",
    "錄製的日期和時間。\n",
    "\n",
    "4.\n",
    "將資料分別使用卡爾曼濾波器與機器學習過濾訊號，可以分別得到預測的座標\n",
    "\n",
    "將各自的預測座標與實際座標比較，能得到MSE\n",
    "\n",
    "利用MSE可以比較得知，是否與假設的機器學習能增加精準度\n",
    "\"\"\""
   ]
  },
  {
   "cell_type": "code",
   "execution_count": 3,
   "metadata": {},
   "outputs": [
    {
     "data": {
      "text/plain": [
       "'\\nHomework2\\n'"
      ]
     },
     "execution_count": 3,
     "metadata": {},
     "output_type": "execute_result"
    }
   ],
   "source": [
    "\"\"\"\n",
    "Homework2\n",
    "\"\"\""
   ]
  },
  {
   "cell_type": "code",
   "execution_count": 4,
   "metadata": {},
   "outputs": [
    {
     "data": {
      "text/plain": [
       "'\\n1.\\n核心問題是提升業績且營業時間減少\\n\\n如果知道某地點哪個時間最多乘客，就能在不同時間安排等待時間，因此可以不浪費太多時間且能得到最好收益\\n\\n2.\\n資料內容應包含\\n地點、時間、多久有一人呼叫計程車、天氣、乘客人數\\n\\n監視畫面，計程車司機，55688等都有相關數據\\n\\n3.\\n結構化資料\\n\\n4.\\n比較隨意開車與依照統計資料開車的收益\\n\\n依據收益除以營業時間。\\n\\n可以判斷假設是否成立\\n\\n'"
      ]
     },
     "execution_count": 4,
     "metadata": {},
     "output_type": "execute_result"
    }
   ],
   "source": [
    "\"\"\"\n",
    "1.\n",
    "核心問題是提升業績且營業時間減少\n",
    "\n",
    "如果知道某地點哪個時間最多乘客，就能在不同時間安排等待時間，因此可以不浪費太多時間且能得到最好收益\n",
    "\n",
    "2.\n",
    "資料內容應包含\n",
    "地點、時間、多久有一人呼叫計程車、天氣、乘客人數\n",
    "\n",
    "監視畫面，計程車司機，55688等都有相關數據\n",
    "\n",
    "3.\n",
    "結構化資料\n",
    "\n",
    "4.\n",
    "比較隨意開車與依照統計資料開車的收益\n",
    "\n",
    "依據收益除以營業時間。\n",
    "\n",
    "可以判斷假設是否成立\n",
    "\n",
    "\"\"\""
   ]
  },
  {
   "cell_type": "code",
   "execution_count": 5,
   "metadata": {},
   "outputs": [
    {
     "data": {
      "text/plain": [
       "'\\nHomework3\\n'"
      ]
     },
     "execution_count": 5,
     "metadata": {},
     "output_type": "execute_result"
    }
   ],
   "source": [
    "\"\"\"\n",
    "Homework3\n",
    "\"\"\""
   ]
  },
  {
   "cell_type": "code",
   "execution_count": 6,
   "metadata": {},
   "outputs": [],
   "source": [
    "import numpy as np\n",
    "import matplotlib.pyplot as plt"
   ]
  },
  {
   "cell_type": "code",
   "execution_count": 7,
   "metadata": {},
   "outputs": [
    {
     "data": {
      "image/png": "[encoded data removed]",
      "text/plain": [
       "<Figure size 432x288 with 1 Axes>"
      ]
     },
     "metadata": {
      "needs_background": "light"
     },
     "output_type": "display_data"
    }
   ],
   "source": [
    "w = 3\n",
    "b = 0.5\n",
    "\n",
    "x_lin = np.linspace(0, 100, 101)\n",
    "\n",
    "y = (x_lin + np.random.randn(101) * 5) * w + b\n",
    "\n",
    "plt.plot(x_lin, y, 'b.', label = 'data points')\n",
    "plt.title(\"Assume we have data points\")\n",
    "plt.legend(loc = 2)\n",
    "plt.show()"
   ]
  },
  {
   "cell_type": "code",
   "execution_count": 8,
   "metadata": {},
   "outputs": [
    {
     "data": {
      "image/png": "[encoded data removed]",
      "text/plain": [
       "<Figure size 432x288 with 1 Axes>"
      ]
     },
     "metadata": {
      "needs_background": "light"
     },
     "output_type": "display_data"
    }
   ],
   "source": [
    "y_hat = x_lin * w + b\n",
    "plt.plot(x_lin, y, 'b.', label = 'data')\n",
    "plt.plot(x_lin, y_hat, 'r-', label = 'prediction')\n",
    "plt.title(\"Assume we have data points (And the prediction)\")\n",
    "plt.legend(loc = 2)\n",
    "plt.show()"
   ]
  },
  {
   "cell_type": "code",
   "execution_count": 9,
   "metadata": {},
   "outputs": [
    {
     "name": "stdout",
     "output_type": "stream",
     "text": [
      "The Mean absolute error is 215.421\n"
     ]
    }
   ],
   "source": [
    "def mean_squared_error(y, yp):\n",
    "    \"\"\"\n",
    "    計算 MSE\n",
    "    Args:\n",
    "        - y: 實際值\n",
    "        - yp: 預測值\n",
    "    Return:\n",
    "        - mae: MSE\n",
    "    \"\"\"\n",
    "    mse = sum(abs(y - yp)**2) / len(y)\n",
    "    return mse\n",
    "\n",
    "MSE = mean_squared_error(y, y_hat)\n",
    "print(\"The Mean absolute error is %.3f\" % (MSE))"
   ]
  },
  {
   "cell_type": "code",
   "execution_count": null,
   "metadata": {},
   "outputs": [],
   "source": []
  }
 ],
 "metadata": {
  "kernelspec": {
   "display_name": "Python 3",
   "language": "python",
   "name": "python3"
  },
  "language_info": {
   "codemirror_mode": {
    "name": "ipython",
    "version": 3
   },
   "file_extension": ".py",
   "mimetype": "text/x-python",
   "name": "python",
   "nbconvert_exporter": "python",
   "pygments_lexer": "ipython3",
   "version": "3.7.2"
  }
 },
 "nbformat": 4,
 "nbformat_minor": 2
}
