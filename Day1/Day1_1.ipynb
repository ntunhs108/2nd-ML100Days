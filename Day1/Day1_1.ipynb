{
 "cells": [
  {
   "cell_type": "code",
   "execution_count": 3,
   "metadata": {},
   "outputs": [
    {
     "data": {
      "text/plain": [
       "' \\n作業1：\\n\\n請上 Kaggle, 在 Competitions 或 Dataset 中找一組競賽或資料並寫下：\\n\\n1. 你選的這組資料為何重要\\n\\n2. 資料從何而來 (tips: 譬如提供者是誰、以什麼方式蒐集)\\n\\n3. 蒐集而來的資料型態為何\\n\\n4. 這組資料想解決的問題如何評估 \\n'"
      ]
     },
     "execution_count": 3,
     "metadata": {},
     "output_type": "execute_result"
    }
   ],
   "source": [
    "\"\"\" \n",
    "作業1：\n",
    "\n",
    "請上 Kaggle, 在 Competitions 或 Dataset 中找一組競賽或資料並寫下：\n",
    "\n",
    "1. 你選的這組資料為何重要\n",
    "\n",
    "2. 資料從何而來 (tips: 譬如提供者是誰、以什麼方式蒐集)\n",
    "\n",
    "3. 蒐集而來的資料型態為何\n",
    "\n",
    "4. 這組資料想解決的問題如何評估 \n",
    "\"\"\"\n",
    "\n"
   ]
  },
  {
   "cell_type": "code",
   "execution_count": 4,
   "metadata": {},
   "outputs": [
    {
     "data": {
      "text/plain": [
       "'\\n1.\\n自己有再研究使用藍芽beacon從事室內定位。\\n以前是用卡爾曼濾波器過濾雜訊，來提升室內定位精準度\\n本篇研究是用機器學習取代卡爾曼等傳統濾波器\\n'"
      ]
     },
     "execution_count": 4,
     "metadata": {},
     "output_type": "execute_result"
    }
   ],
   "source": [
    "\"\"\"\n",
    "1.\n",
    "自己有再研究使用藍芽beacon從事室內定位。\n",
    "以前是用卡爾曼濾波器過濾雜訊，來提升室內定位精準度\n",
    "本篇研究是用機器學習取代卡爾曼等傳統濾波器\n",
    "\"\"\""
   ]
  },
  {
   "cell_type": "code",
   "execution_count": 6,
   "metadata": {},
   "outputs": [
    {
     "data": {
      "text/plain": [
       "'\\n2.\\nhttps://www.kaggle.com/liwste/indoor-positioning\\n\\n3個藍牙beacon安裝在2.74米寬x 4.38米長的房間內。 \\n3個beacon以-12dbm的發射功率發射。 \\n打開藍牙的Sony Xperia E3智能手機用作記錄數據的接收器。 \\n在相同位置以30-60秒的間隔在房間中的若干位置上進行記錄。\\n'"
      ]
     },
     "execution_count": 6,
     "metadata": {},
     "output_type": "execute_result"
    }
   ],
   "source": [
    "\"\"\"\n",
    "2.\n",
    "https://www.kaggle.com/liwste/indoor-positioning\n",
    "\n",
    "3個藍牙beacon安裝在2.74米寬x 4.38米長的房間內。 \n",
    "3個beacon以-12dbm的發射功率發射。 \n",
    "打開藍牙的Sony Xperia E3智能手機用作記錄數據的接收器。 \n",
    "在相同位置以30-60秒的間隔在房間中的若干位置上進行記錄。\n",
    "\"\"\""
   ]
  },
  {
   "cell_type": "code",
   "execution_count": 5,
   "metadata": {},
   "outputs": [
    {
     "data": {
      "text/plain": [
       "'\\n3.\\n資料型態是結構化資料\\n\\n信標A與使用此藍牙信標的rssi計算的設備之間的距離（以米為單位）。\\n\\n信標B與使用此藍牙信標的rssi計算的設備之間的距離（以米為單位）。\\n\\n信標C與使用此藍牙信標的rssi計算的設備之間的距離（以米為單位）。\\n\\n以厘米為單位的X坐標四捨五入到最接近的厘米，使用精度為+/- 1cm的捲尺測量。\\n\\n以厘米為單位的Y坐標四捨五入到最接近的厘米，使用精度為+/- 1cm的捲尺測量。\\n\\n錄製的日期和時間。\\n'"
      ]
     },
     "execution_count": 5,
     "metadata": {},
     "output_type": "execute_result"
    }
   ],
   "source": [
    "\"\"\"\n",
    "3.\n",
    "資料型態是結構化資料\n",
    "\n",
    "信標A與使用此藍牙信標的rssi計算的設備之間的距離（以米為單位）。\n",
    "\n",
    "信標B與使用此藍牙信標的rssi計算的設備之間的距離（以米為單位）。\n",
    "\n",
    "信標C與使用此藍牙信標的rssi計算的設備之間的距離（以米為單位）。\n",
    "\n",
    "以厘米為單位的X坐標四捨五入到最接近的厘米，使用精度為+/- 1cm的捲尺測量。\n",
    "\n",
    "以厘米為單位的Y坐標四捨五入到最接近的厘米，使用精度為+/- 1cm的捲尺測量。\n",
    "\n",
    "錄製的日期和時間。\n",
    "\"\"\""
   ]
  },
  {
   "cell_type": "code",
   "execution_count": 2,
   "metadata": {},
   "outputs": [
    {
     "data": {
      "text/plain": [
       "'\\n4.\\n將資料分別使用卡爾曼濾波器與機器學習過濾訊號，可以分別得到預測的座標\\n\\n將各自的預測座標與實際座標比較，能得到MSE\\n\\n利用MSE可以比較得知，是否與假設的機器學習能增加精準度\\n'"
      ]
     },
     "execution_count": 2,
     "metadata": {},
     "output_type": "execute_result"
    }
   ],
   "source": [
    "\"\"\"\n",
    "4.\n",
    "將資料分別使用卡爾曼濾波器與機器學習過濾訊號，可以分別得到預測的座標\n",
    "\n",
    "將各自的預測座標與實際座標比較，能得到MSE\n",
    "\n",
    "利用MSE可以比較得知，是否與假設的機器學習能增加精準度\n",
    "\"\"\""
   ]
  },
  {
   "cell_type": "code",
   "execution_count": null,
   "metadata": {},
   "outputs": [],
   "source": []
  }
 ],
 "metadata": {
  "kernelspec": {
   "display_name": "sklearn",
   "language": "python",
   "name": "sklearn"
  },
  "language_info": {
   "codemirror_mode": {
    "name": "ipython",
    "version": 3
   },
   "file_extension": ".py",
   "mimetype": "text/x-python",
   "name": "python",
   "nbconvert_exporter": "python",
   "pygments_lexer": "ipython3",
   "version": "3.7.3"
  }
 },
 "nbformat": 4,
 "nbformat_minor": 2
}
